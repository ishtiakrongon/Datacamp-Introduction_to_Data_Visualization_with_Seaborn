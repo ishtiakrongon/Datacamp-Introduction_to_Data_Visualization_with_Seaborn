{
 "cells": [
  {
   "cell_type": "markdown",
   "metadata": {},
   "source": [
    "# Introduction to Data Visualization with Seaborn"
   ]
  },
  {
   "cell_type": "markdown",
   "metadata": {},
   "source": [
    "---"
   ]
  },
  {
   "cell_type": "markdown",
   "metadata": {},
   "source": [
    "# 1. Introduction"
   ]
  },
  {
   "cell_type": "markdown",
   "metadata": {},
   "source": [
    "### Importing Libraries"
   ]
  },
  {
   "cell_type": "code",
   "execution_count": 2,
   "metadata": {},
   "outputs": [],
   "source": [
    "import pandas as pd\n",
    "import numpy as np\n",
    "import matplotlib.pyplot as plt\n",
    "import seaborn as sns"
   ]
  },
  {
   "cell_type": "markdown",
   "metadata": {},
   "source": [
    "### Importing Datasets as Dataframes"
   ]
  },
  {
   "cell_type": "code",
   "execution_count": 3,
   "metadata": {},
   "outputs": [],
   "source": [
    "country_data = pd.read_csv(\"D:/git_repositories/Datacamp-Introduction_to_Data_Visualization_with_Seaborn/Dataset/countries-of-the-world.csv\", decimal = ',')\n",
    "mpg = pd.read_csv(\"D:/git_repositories/Datacamp-Introduction_to_Data_Visualization_with_Seaborn/Dataset/mpg.csv\")\n",
    "student_data = pd.read_csv(\"D:/git_repositories/Datacamp-Introduction_to_Data_Visualization_with_Seaborn/Dataset/student-alcohol-consumption.csv\", index_col = 0)\n",
    "survey = pd.read_csv(\"D:/git_repositories/Datacamp-Introduction_to_Data_Visualization_with_Seaborn/Dataset/young-people-survey-responses.csv\", index_col = 0)"
   ]
  }
 ],
 "metadata": {
  "kernelspec": {
   "display_name": "Python 3.10.4 64-bit",
   "language": "python",
   "name": "python3"
  },
  "language_info": {
   "codemirror_mode": {
    "name": "ipython",
    "version": 3
   },
   "file_extension": ".py",
   "mimetype": "text/x-python",
   "name": "python",
   "nbconvert_exporter": "python",
   "pygments_lexer": "ipython3",
   "version": "3.10.4"
  },
  "orig_nbformat": 4,
  "vscode": {
   "interpreter": {
    "hash": "689ce70f491755004657c62a40aa913e1005ad46291934f1e8a350e575c2ff73"
   }
  }
 },
 "nbformat": 4,
 "nbformat_minor": 2
}
